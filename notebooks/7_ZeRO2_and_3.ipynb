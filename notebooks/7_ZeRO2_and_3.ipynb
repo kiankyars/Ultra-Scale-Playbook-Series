{
 "cells": [
  {
   "cell_type": "markdown",
   "metadata": {},
   "source": [
    "<a href=\"https://colab.research.google.com/github/kiankyars/Ultra-Scale-Playbook-Series/blob/main/notebooks/7_ZeRO2_and_3.ipynb\" target=\"_parent\"><img src=\"https://colab.research.google.com/assets/colab-badge.svg\" alt=\"Open In Colab\"/></a>"
   ]
  },
  {
   "cell_type": "markdown",
   "metadata": {},
   "source": [
    "# Ultra-Scale Playbook: Part 7 - Advanced ZeRO and Memory Optimization"
   ]
  },
  {
   "cell_type": "markdown",
   "metadata": {},
   "source": [
    "## Overview\n",
    "This notebook covers:\n",
    "- ZeRO-2: Gradient partitioning\n",
    "- ZeRO-3/Fully Sharded Data Parallel (FSDP): Parameter partitioning\n",
    "- Communication patterns in advanced ZeRO\n",
    "- Activation memory challenges\n",
    "- Practical implementations and tradeoffs"
   ]
  },
  {
   "cell_type": "markdown",
   "metadata": {},
   "source": [
    "## Key Concepts"
   ]
  },
  {
   "cell_type": "markdown",
   "metadata": {},
   "source": [
    "### ZeRO-2: Gradient Partitioning\n",
    "- Extends ZeRO-1 by also partitioning gradients\n",
    "- Each GPU only stores gradients for its parameter partition\n",
    "- Memory savings: 8x vs baseline (compared to 4x with ZeRO-1)\n",
    "- Communication pattern same as ZeRO-1 (reduce-scatter + all-gather)"
   ]
  },
  {
   "cell_type": "markdown",
   "metadata": {},
   "source": [
    "### ZeRO-3/FSDP: Parameter Partitioning\n",
    "- Partitions parameters across GPUs\n",
    "- Requires on-demand gathering of parameters during forward/backward\n",
    "- Uses prefetching to overlap communication with computation\n",
    "- Adds ~50% communication overhead\n",
    "- Enables training models that don't fit on single GPU"
   ]
  },
  {
   "cell_type": "markdown",
   "metadata": {},
   "source": [
    "### Communication Patterns\n",
    "| Operation       | ZeRO-1/2          | ZeRO-3/FSDP       |\n",
    "|----------------|-------------------|-------------------|\n",
    "| Forward Pass   | Full params       | Layer-by-layer all-gather |\n",
    "| Backward Pass  | Full params       | Layer-by-layer all-gather |\n",
    "| Gradient Sync  | reduce-scatter    | reduce-scatter    |\n",
    "| Param Update   | Partitioned       | Partitioned       |"
   ]
  },
  {
   "cell_type": "markdown",
   "metadata": {},
   "source": [
    "## Memory Optimization Implementation"
   ]
  },
  {
   "cell_type": "code",
   "execution_count": null,
   "metadata": {},
   "outputs": [],
   "source": [
    "import torch\n",
    "import torch.distributed as dist\n",
    "from torch.nn.parallel import DistributedDataParallel as DDP\n",
    "\n",
    "# Simplified FSDP-style layer implementation\n",
    "class ShardedLinear(torch.nn.Module):\n",
    "    def __init__(self, input_size, output_size, num_partitions):\n",
    "        super().__init__()\n",
    "        self.num_partitions = num_partitions\n",
    "        self.rank = dist.get_rank() if dist.is_initialized() else 0\n",
    "        \n",
    "        # Partition the weight matrix\n",
    "        partition_size = output_size // num_partitions\n",
    "        self.shard = torch.nn.Parameter(\n",
    "            torch.randn(partition_size, input_size) * 0.01\n",
    "        )\n",
    "        \n",
    "    def forward(self, x):\n",
    "        # In real FSDP, this would be an all-gather\n",
    "        # Here we just simulate the partitioned computation\n",
    "        return x @ self.shard.T"
   ]
  },
  {
   "cell_type": "code",
   "execution_count": null,
   "metadata": {},
   "outputs": [],
   "source": [
    "def calculate_memory_savings(num_params, num_gpus, zero_stage):\n",
    "    \"\"\"\n",
    "    Calculate memory savings for different ZeRO stages\n",
    "    \n",
    "    Args:\n",
    "        num_params: Number of model parameters\n",
    "        num_gpus: Number of GPUs\n",
    "        zero_stage: 1, 2, or 3\n",
    "        \n",
    "    Returns:\n",
    "        Memory usage per GPU in GB\n",
    "    \"\"\"\n",
    "    # Base memory (naive DP)\n",
    "    base_mem = num_params * (2 + 2 + 4 + 8)  # params, grads, fp32 params, optimizer states\n",
    "    \n",
    "    if zero_stage == 1:\n",
    "        # Only optimizer states partitioned\n",
    "        mem = base_mem - (num_params * 8 * (1 - 1/num_gpus))\n",
    "    elif zero_stage == 2:\n",
    "        # Optimizer states + gradients partitioned\n",
    "        mem = base_mem - (num_params * (8 + 2) * (1 - 1/num_gpus))\n",
    "    elif zero_stage == 3:\n",
    "        # Everything partitioned\n",
    "        mem = base_mem - (num_params * (8 + 2 + 2 + 4) * (1 - 1/num_gpus))\n",
    "    \n",
    "    return mem / (1024**3)  # Convert to GB"
   ]
  },
  {
   "cell_type": "markdown",
   "metadata": {},
   "source": [
    "## Interactive Exercises"
   ]
  },
  {
   "cell_type": "markdown",
   "metadata": {},
   "source": [
    "### Exercise 1: Memory Savings Comparison\n",
    "Compare memory usage for:\n",
    "- 13B parameter model\n",
    "- 8 GPUs\n",
    "- ZeRO stages 1, 2, and 3\n",
    "\n",
    "Calculate memory per GPU for each stage"
   ]
  },
  {
   "cell_type": "code",
   "execution_count": null,
   "metadata": {},
   "outputs": [],
   "source": [
    "# Your solution here\n",
    "num_params = 13_000_000_000\n",
    "num_gpus = 8\n",
    "\n",
    "for stage in [1, 2, 3]:\n",
    "    mem_gb = calculate_memory_savings(num_params, num_gpus, stage)\n",
    "    print(f\"ZeRO-{stage} memory per GPU: {mem_gb:.2f} GB\")"
   ]
  },
  {
   "cell_type": "markdown",
   "metadata": {},
   "source": [
    "### Exercise 2: Communication Overhead Estimation\n",
    "Estimate communication overhead for ZeRO-3 with:\n",
    "- 24 layers\n",
    "- 1B parameters per layer\n",
    "- bf16 precision (2 bytes per parameter)\n",
    "\n",
    "Calculate total communication volume for one training step"
   ]
  },
  {
   "cell_type": "code",
   "execution_count": null,
   "metadata": {},
   "outputs": [],
   "source": [
    "# Your solution here\n",
    "num_layers = 24\n",
    "params_per_layer = 1_000_000_000\n",
    "bytes_per_param = 2\n",
    "\n",
    "# ZeRO-3 does 2*L-1 all-gathers (forward + backward)\n",
    "all_gathers = 2 * num_layers - 1\n",
    "all_gather_comm = all_gathers * params_per_layer * bytes_per_param\n",
    "\n",
    "# Plus one reduce-scatter for gradients\n",
    "reduce_scatter_comm = params_per_layer * bytes_per_param\n",
    "\n",
    "total_comm = (all_gather_comm + reduce_scatter_comm) / (1024**3)\n",
    "print(f\"Total communication per step: {total_comm:.2f} GB\")"
   ]
  },
  {
   "cell_type": "markdown",
   "metadata": {},
   "source": [
    "## Activation Memory Challenges\n",
    "- ZeRO doesn't partition activations\n",
    "- Activation memory grows with:\n",
    "  - Batch size\n",
    "  - Sequence length\n",
    "  - Model width (hidden size)\n",
    "- For large models, activations dominate memory usage\n",
    "- Solutions (coming in next parts):\n",
    "  - Tensor parallelism (partition activations)\n",
    "  - Activation checkpointing\n",
    "  - Sequence parallelism"
   ]
  },
  {
   "cell_type": "markdown",
   "metadata": {},
   "source": [
    "## Quiz\n",
    "1. What does ZeRO-2 add beyond ZeRO-1?\n",
    "   a) Parameter partitioning\n",
    "   b) Gradient partitioning\n",
    "   c) Activation partitioning\n",
    "   \n",
    "2. How does ZeRO-3/FSDP handle parameters during forward pass?\n",
    "   a) Keeps full copy on each GPU\n",
    "   b) Gathers layer parameters when needed\n",
    "   c) Uses CPU offloading\n",
    "   \n",
    "3. What is the main remaining memory bottleneck with ZeRO-3?\n",
    "   a) Optimizer states\n",
    "   b) Gradients\n",
    "   c) Activations\n",
    "   \n",
    "4. What technique helps overlap communication in ZeRO-3?\n",
    "   a) Prefetching\n",
    "   b) Compression\n",
    "   c) Quantization\n",
    "\n",
    "Answers:\n",
    "1. b) Gradient partitioning\n",
    "2. b) Gathers layer parameters when needed\n",
    "3. c) Activations\n",
    "4. a) Prefetching"
   ]
  },
  {
   "cell_type": "markdown",
   "metadata": {},
   "source": [
    "## Summary\n",
    "- ZeRO-2 adds gradient partitioning to optimizer state partitioning\n",
    "- ZeRO-3/FSDP adds parameter partitioning for maximum memory savings\n",
    "- Advanced ZeRO requires careful communication optimization\n",
    "- Activation memory remains a key challenge\n",
    "- Next we'll explore tensor parallelism for activation partitioning"
   ]
  }
 ],
 "metadata": {
  "kernelspec": {
   "display_name": "Python 3",
   "language": "python",
   "name": "python3"
  },
  "language_info": {
   "codemirror_mode": {
    "name": "ipython",
    "version": 3
   },
   "file_extension": ".py",
   "mimetype": "text/x-python",
   "name": "python",
   "nbconvert_exporter": "python",
   "pygments_lexer": "ipython3",
   "version": "3.8.5"
  }
 },
 "nbformat": 4,
 "nbformat_minor": 4
}
